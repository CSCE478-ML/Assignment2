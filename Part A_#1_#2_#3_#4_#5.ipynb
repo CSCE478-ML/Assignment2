{
 "cells": [
  {
   "cell_type": "code",
   "execution_count": 1,
   "metadata": {},
   "outputs": [],
   "source": [
    "import pandas as pd\n",
    "import numpy as np\n",
    "import matplotlib.pyplot as plt\n",
    "from itertools import combinations_with_replacement\n",
    "import functools"
   ]
  },
  {
   "cell_type": "code",
   "execution_count": 2,
   "metadata": {},
   "outputs": [],
   "source": [
    "df = pd.read_csv('Dataset/winequality-red.csv',sep = ';')"
   ]
  },
  {
   "cell_type": "code",
   "execution_count": 3,
   "metadata": {},
   "outputs": [],
   "source": [
    "def polynomialFeatures(x,degree = 2):\n",
    "    x_t = x.T\n",
    "    features = np.ones(len(x))\n",
    "    for degree in range(1, degree + 1):\n",
    "        for items in combinations_with_replacement(x_t, degree):\n",
    "            features = np.vstack((features,functools.reduce(lambda x, y: x * y, items)))\n",
    "    return features.T"
   ]
  },
  {
   "cell_type": "markdown",
   "metadata": {},
   "source": [
    "###  #2 Implementthe following function to calculate and return the mean squared error (mse) of two vectors"
   ]
  },
  {
   "cell_type": "code",
   "execution_count": 4,
   "metadata": {},
   "outputs": [],
   "source": [
    "# Y_true and Y_pred are column vector, which are n-row × 1-col.\n",
    "\n",
    "def mse(Y_true, Y_pred):\n",
    "    E = np.array(Y_true).reshape(-1,1) - np.array(Y_pred).reshape(-1,1)\n",
    "    mse = 1/np.array(Y_true).shape[0] * (E.T.dot(E))\n",
    "    return mse[(0,0)]"
   ]
  },
  {
   "cell_type": "markdown",
   "metadata": {},
   "source": [
    "Testing the mse() function"
   ]
  },
  {
   "cell_type": "code",
   "execution_count": 5,
   "metadata": {},
   "outputs": [
    {
     "data": {
      "text/plain": [
       "2.25"
      ]
     },
     "execution_count": 5,
     "metadata": {},
     "output_type": "execute_result"
    }
   ],
   "source": [
    "Y_tr = np.array([1, 3, 5, 6]).reshape(-1,1)\n",
    "Y_pr = np.array([2, 3, 7, 4]).reshape(-1,1)\n",
    "mse(Y_tr, Y_pr)"
   ]
  },
  {
   "cell_type": "markdown",
   "metadata": {},
   "source": [
    "### #3 Implementthe following function to compute training and validation errors."
   ]
  },
  {
   "cell_type": "code",
   "execution_count": 6,
   "metadata": {},
   "outputs": [],
   "source": [
    "# function_1 used to split the data into k fold\n",
    "\n",
    "def k_partition(data,kfold):\n",
    "    return np.array_split(data,kfold)"
   ]
  },
  {
   "cell_type": "code",
   "execution_count": 7,
   "metadata": {},
   "outputs": [],
   "source": [
    "# function_2 used to compute the mse for each iteration\n",
    "\n",
    "\n",
    "def kfold_error(model, X, Y, k_fold, learning_rate = 0.01, epochs = 1000, \n",
    "                tol = None, regularizer = None, lambd = 0.0, **kwargs):\n",
    "    if(Y.shape == (Y.shape[0],)):\n",
    "        Y = np.expand_dims(Y,axis=1)\n",
    "    dataset = np.concatenate([X,Y],axis=1)\n",
    "\n",
    "    k_part = k_partition(dataset, k_fold)   # using the function_1 k_partition\n",
    "    \n",
    "    error_training = []\n",
    "    error_validation = []\n",
    "\n",
    "    for idx,val in enumerate(k_part):\n",
    "        validation_Y = val[:,-1]\n",
    "        validation_X = val[:,:-1]\n",
    "        train = np.concatenate(np.delete(k_part,idx,0))\n",
    "        train_Y = train[:,-1]\n",
    "        train_X = train[:,:-1]          \n",
    "    \n",
    "        # with sklearn Linearregression to test the entire function\n",
    "        # replace it when our modeling function is done.\n",
    "        reg = model().fit(train_X, train_Y)\n",
    "        pr_train_Y = reg.predict(train_X)\n",
    "        pr_validation_Y = reg.predict(validation_X)\n",
    "        mse_train_Y = mse(train_Y, pr_train_Y)\n",
    "        mse_validation_Y = mse(validation_Y, pr_validation_Y)\n",
    "    \n",
    "#         # using our modeling function\n",
    "#         model.fit(train_X, train_Y, learning_rate = learning_rate, epochs = epochs, \n",
    "#                   tol = tol, regularizer = regularizer, lambd = lambd)\n",
    "#         pr_train_Y = model.predict(train_X)\n",
    "#         pr_validation_Y = model.predict(validation_X)\n",
    "#         mse_train_Y = mse(train_Y, pr_train_Y)\n",
    "#         mse_validation_Y = mse(validation_Y, pr_validation_Y)\n",
    "\n",
    "        error_training.append(mse_train_Y)\n",
    "        error_validation.append(mse_validation_Y)\n",
    "\n",
    "    # return the average mse for the training and the validation fold.\n",
    "    return np.array(error_training).mean(), np.array(error_validation).mean()"
   ]
  },
  {
   "cell_type": "code",
   "execution_count": 8,
   "metadata": {},
   "outputs": [],
   "source": [
    "# final function used to return the training scores and validation scores based on varying training samples. \n",
    "\n",
    "def learning_curve(model, X, Y, cv, train_size = 1, learning_rate = 0.01, \n",
    "                   epochs = 1000, tol = None, regularizer = None, lambd = 0.0, **kwargs):\n",
    "    \n",
    "    \n",
    "    if type(train_size) == int and train_size > 1: \n",
    "        train_size_abs = train_size\n",
    "    elif train_size > 0 and train_size <= 1:\n",
    "        train_size_abs = int(train_size * X.shape[0])\n",
    "    else:\n",
    "        print(f'unaceptable train_size of {train_size}')\n",
    "        \n",
    "    if X.shape[0] % train_size_abs != 0:\n",
    "        t = X.shape[0] // train_size_abs + 1\n",
    "    else:\n",
    "        t = X.shape[0] // train_size_abs\n",
    "    \n",
    "    t0 = 1\n",
    "    num_samples_list = []\n",
    "    rmse_training_list = []\n",
    "    rmse_validation_list = []\n",
    "\n",
    "    while t0 <= t:\n",
    "        i = t0 * train_size_abs\n",
    "        if i >= X.shape[0]: i = X.shape[0]\n",
    "        index = np.arange(i)\n",
    "        X_split = (X[index])\n",
    "        Y_split = (Y[index])\n",
    "        \n",
    "        # using the function_2 to calculate the mse, and then rmse using k-fold based on varying training samples.\n",
    "        rmse_tr, rmse_va = np.sqrt(kfold_error(model, X_split, Y_split, cv, train_size = train_size, \n",
    "                                               learning_rate = learning_rate, epochs = epochs, tol = tol, \n",
    "                                               regularizer = regularizer, lambd = lambd))\n",
    "        num_samples_list.append(i)\n",
    "        rmse_training_list.append(rmse_tr)\n",
    "        rmse_validation_list.append(rmse_va)\n",
    "        t0 += 1\n",
    "\n",
    "    result = {'num_samples':pd.Series(num_samples_list), \n",
    "              'train_scores':pd.Series(rmse_training_list), 'val_score':pd.Series(rmse_validation_list)}\n",
    "    learning_curve_elements = pd.DataFrame(result)\n",
    "    \n",
    "    return np.array(learning_curve_elements[\"train_scores\"]), \\\n",
    "            np.array(learning_curve_elements[\"val_score\"]), np.array(learning_curve_elements[\"num_samples\"]), \\\n",
    "            learning_curve_elements"
   ]
  },
  {
   "cell_type": "markdown",
   "metadata": {},
   "source": [
    "Testing the learning_curve function"
   ]
  },
  {
   "cell_type": "code",
   "execution_count": 9,
   "metadata": {},
   "outputs": [],
   "source": [
    "# using the lineaRegression from sklearn to test the function. \n",
    "# when our modeling function is done, we need to replace the sklearn function in the function_2\n",
    "\n",
    "from sklearn.linear_model import LinearRegression\n",
    "\n",
    "X = 10 * np.random.rand(63).reshape(63,1)\n",
    "Y = 20 * np.random.rand(63).reshape(-1,1)\n",
    "cv = 5\n",
    "train_size = 10"
   ]
  },
  {
   "cell_type": "code",
   "execution_count": 10,
   "metadata": {},
   "outputs": [
    {
     "data": {
      "text/plain": [
       "(array([4.45551369, 5.09727785, 5.23353373, 5.41114499, 5.3355869 ,\n",
       "        5.32141421, 5.29677398]),\n",
       " array([5.68178707, 5.56595774, 5.43220232, 5.55956031, 5.44085292,\n",
       "        5.42721566, 5.36510842]),\n",
       " array([10, 20, 30, 40, 50, 60, 63], dtype=int64),\n",
       "    num_samples  train_scores  val_score\n",
       " 0           10      4.455514   5.681787\n",
       " 1           20      5.097278   5.565958\n",
       " 2           30      5.233534   5.432202\n",
       " 3           40      5.411145   5.559560\n",
       " 4           50      5.335587   5.440853\n",
       " 5           60      5.321414   5.427216\n",
       " 6           63      5.296774   5.365108)"
      ]
     },
     "execution_count": 10,
     "metadata": {},
     "output_type": "execute_result"
    }
   ],
   "source": [
    "learning_curve(LinearRegression, X, Y, cv, train_size, learning_rate = 0.01, \n",
    "                   epochs = 1000, tol = None, regularizer = None, lambd = 0.0)"
   ]
  },
  {
   "cell_type": "markdown",
   "metadata": {},
   "source": [
    "### #4 Implementthe following function to plot the training and validation root mean square error (rmse) values of the data matrix X for various polynomial degree starting from 1 up to the value set by “maxPolynomialDegree”"
   ]
  },
  {
   "cell_type": "code",
   "execution_count": 11,
   "metadata": {},
   "outputs": [],
   "source": [
    "def plot_polynomial_model_complexity(model, X, Y, cv, maxPolynomialDegree, \n",
    "                                     learning_rate=0.01, epochs=1000, tol=None, regularizer=None, lambd=0.0, **kwargs):\n",
    "    \n",
    "    poly_list = []\n",
    "    rmse_training_list = []\n",
    "    rmse_validation_list = []\n",
    "    \n",
    "    for i in range(1, maxPolynomialDegree+1):\n",
    "        \n",
    "        # Here should be replaced with our #1 function polynomialFeatures(X, degree)\n",
    "        X_poly = polynomialFeatures(X, i)\n",
    "        Y_poly = polynomialFeatures(X, i)\n",
    "        \n",
    "        rmse_tr, rmse_va = np.sqrt(kfold_error(model, X_poly, Y_poly, cv, train_size = train_size, \n",
    "                                               learning_rate = learning_rate, epochs = epochs, tol = tol, \n",
    "                                               regularizer = regularizer, lambd = lambd))\n",
    "        poly_list.append(i)\n",
    "        rmse_training_list.append(rmse_tr)\n",
    "        rmse_validation_list.append(rmse_va)\n",
    "        \n",
    "    # plot the RMSE using the list above.\n",
    "    plt.figure(figsize = (10, 10))\n",
    "    \n",
    "    # linewidth and fontsize\n",
    "    lw = 2\n",
    "    fontsize = 20\n",
    "    \n",
    "    # plot curves\n",
    "    plt.plot(poly_list, rmse_training_list, 'o-', color='green', lw = lw, label = \"Training set\") \n",
    "    plt.plot(poly_list, rmse_validation_list, 'o-', color='red', lw = lw, label = \"Validation set\") \n",
    "            \n",
    "    # add title, xlabel, ylabel, and legend. \n",
    "    plt.title('RMSE curve', fontsize = fontsize)\n",
    "    plt.xlabel('Polynomial Degree', fontsize = fontsize)\n",
    "    plt.ylabel('RMSE', fontsize = fontsize)\n",
    "    plt.legend(loc=\"best\", fontsize = fontsize)\n",
    "    plt.xticks(np.arange(1, i+1, 1))\n",
    "    \n",
    "    plt.show()"
   ]
  },
  {
   "cell_type": "markdown",
   "metadata": {},
   "source": [
    "Testing the plot_polynomial_model_complexity function"
   ]
  },
  {
   "cell_type": "code",
   "execution_count": 12,
   "metadata": {},
   "outputs": [
    {
     "data": {
      "image/png": "[encoded data removed]",
      "text/plain": [
       "<Figure size 720x720 with 1 Axes>"
      ]
     },
     "metadata": {
      "needs_background": "light"
     },
     "output_type": "display_data"
    }
   ],
   "source": [
    "X = 10 * np.random.rand(500).reshape(100,5)\n",
    "Y = 20 * np.random.rand(100).reshape(-1,1)\n",
    "cv = 5\n",
    "poly = 5\n",
    "plot_polynomial_model_complexity(LinearRegression, X, Y, cv, poly, learning_rate = 0.01, \n",
    "                   epochs = 1000, tol = None, regularizer = None, lambd = 0.0)"
   ]
  },
  {
   "cell_type": "markdown",
   "metadata": {},
   "source": [
    "### #5. Implement a Linear_Regression model class. It should have the following three methods. Note the that “fit” method should implement the batch gradient descent algorithm."
   ]
  },
  {
   "cell_type": "markdown",
   "metadata": {},
   "source": [
    "Testing the two functions"
   ]
  },
  {
   "cell_type": "code",
   "execution_count": 13,
   "metadata": {},
   "outputs": [
    {
     "name": "stdout",
     "output_type": "stream",
     "text": [
      "[[1.29028426]\n",
      " [1.45075296]\n",
      " [0.09440875]\n",
      " [5.1092936 ]\n",
      " [3.03971172]\n",
      " [6.9546092 ]\n",
      " [0.08229257]\n",
      " [6.74141901]\n",
      " [8.3009998 ]\n",
      " [3.18622704]\n",
      " [2.83195371]\n",
      " [7.50883215]\n",
      " [7.61727397]\n",
      " [4.99330017]\n",
      " [5.68968643]\n",
      " [7.43710827]\n",
      " [7.04107737]\n",
      " [1.51385812]\n",
      " [4.88168259]\n",
      " [5.06072313]\n",
      " [6.09695111]\n",
      " [9.16802622]\n",
      " [9.47789868]\n",
      " [9.69926583]\n",
      " [3.67835642]\n",
      " [6.91586805]\n",
      " [3.2539497 ]\n",
      " [0.05609216]\n",
      " [3.50757529]\n",
      " [9.63885731]\n",
      " [8.40906352]\n",
      " [1.01345318]\n",
      " [2.54896538]\n",
      " [5.77558453]\n",
      " [6.3706377 ]\n",
      " [6.67479437]\n",
      " [4.7598918 ]\n",
      " [1.57082757]\n",
      " [5.04294309]\n",
      " [6.34677073]\n",
      " [4.17023807]\n",
      " [3.17638496]\n",
      " [1.96957085]\n",
      " [7.96781446]\n",
      " [4.1493814 ]\n",
      " [1.81188967]\n",
      " [1.84078716]\n",
      " [3.88418731]\n",
      " [1.29236358]\n",
      " [9.92739533]\n",
      " [4.19138617]\n",
      " [8.45596889]\n",
      " [8.98690876]\n",
      " [8.44735383]\n",
      " [9.74642224]\n",
      " [5.74591635]\n",
      " [6.62702994]\n",
      " [4.04289127]\n",
      " [8.16004887]\n",
      " [3.69638747]\n",
      " [1.9271733 ]\n",
      " [7.53396647]\n",
      " [7.01579844]\n",
      " [1.        ]]\n",
      "[1049.10138413 1049.10138413 1049.10138413 1049.10138413 1049.10138413\n",
      " 1049.10138413 1049.10138413 1049.10138413 1049.10138413 1049.10138413\n",
      " 1049.10138413 1049.10138413 1049.10138413 1049.10138413 1049.10138413\n",
      " 1049.10138413 1049.10138413 1049.10138413 1049.10138413 1049.10138413\n",
      " 1049.10138413 1049.10138413 1049.10138413 1049.10138413 1049.10138413\n",
      " 1049.10138413 1049.10138413 1049.10138413 1049.10138413 1049.10138413\n",
      " 1049.10138413 1049.10138413 1049.10138413 1049.10138413 1049.10138413\n",
      " 1049.10138413 1049.10138413 1049.10138413 1049.10138413 1049.10138413\n",
      " 1049.10138413 1049.10138413 1049.10138413 1049.10138413 1049.10138413\n",
      " 1049.10138413 1049.10138413 1049.10138413 1049.10138413 1049.10138413\n",
      " 1049.10138413 1049.10138413 1049.10138413 1049.10138413 1049.10138413\n",
      " 1049.10138413 1049.10138413 1049.10138413 1049.10138413 1049.10138413\n",
      " 1049.10138413 1049.10138413 1049.10138413]\n",
      "1000\n"
     ]
    },
    {
     "data": {
      "text/plain": [
       "array([[1.29028426],\n",
       "       [1.45075296],\n",
       "       [0.09440875],\n",
       "       [5.1092936 ],\n",
       "       [3.03971172],\n",
       "       [6.9546092 ],\n",
       "       [0.08229257],\n",
       "       [6.74141901],\n",
       "       [8.3009998 ],\n",
       "       [3.18622704],\n",
       "       [2.83195371],\n",
       "       [7.50883215],\n",
       "       [7.61727397],\n",
       "       [4.99330017],\n",
       "       [5.68968643],\n",
       "       [7.43710827],\n",
       "       [7.04107737],\n",
       "       [1.51385812],\n",
       "       [4.88168259],\n",
       "       [5.06072313],\n",
       "       [6.09695111],\n",
       "       [9.16802622],\n",
       "       [9.47789868],\n",
       "       [9.69926583],\n",
       "       [3.67835642],\n",
       "       [6.91586805],\n",
       "       [3.2539497 ],\n",
       "       [0.05609216],\n",
       "       [3.50757529],\n",
       "       [9.63885731],\n",
       "       [8.40906352],\n",
       "       [1.01345318],\n",
       "       [2.54896538],\n",
       "       [5.77558453],\n",
       "       [6.3706377 ],\n",
       "       [6.67479437],\n",
       "       [4.7598918 ],\n",
       "       [1.57082757],\n",
       "       [5.04294309],\n",
       "       [6.34677073],\n",
       "       [4.17023807],\n",
       "       [3.17638496],\n",
       "       [1.96957085],\n",
       "       [7.96781446],\n",
       "       [4.1493814 ],\n",
       "       [1.81188967],\n",
       "       [1.84078716],\n",
       "       [3.88418731],\n",
       "       [1.29236358],\n",
       "       [9.92739533],\n",
       "       [4.19138617],\n",
       "       [8.45596889],\n",
       "       [8.98690876],\n",
       "       [8.44735383],\n",
       "       [9.74642224],\n",
       "       [5.74591635],\n",
       "       [6.62702994],\n",
       "       [4.04289127],\n",
       "       [8.16004887],\n",
       "       [3.69638747],\n",
       "       [1.9271733 ],\n",
       "       [7.53396647],\n",
       "       [7.01579844]])"
      ]
     },
     "execution_count": 13,
     "metadata": {},
     "output_type": "execute_result"
    }
   ],
   "source": [
    "import Part_A5 as A5\n",
    "X = 10 * np.random.rand(63).reshape(63,1)\n",
    "Y = 20 * np.random.rand(63).reshape(-1,1)\n",
    "lr = A5.Linear_Regression\n",
    "lr.fit(lr, X, Y, learning_rate = 0.01, epochs = 1000, tol = None, regularizer = None, lambd = 0.0)\n",
    "lr.predict(lr, X)"
   ]
  },
  {
   "cell_type": "code",
   "execution_count": null,
   "metadata": {},
   "outputs": [],
   "source": []
  },
  {
   "cell_type": "code",
   "execution_count": null,
   "metadata": {},
   "outputs": [],
   "source": []
  }
 ],
 "metadata": {
  "kernelspec": {
   "display_name": "Python 3",
   "language": "python",
   "name": "python3"
  },
  "language_info": {
   "codemirror_mode": {
    "name": "ipython",
    "version": 3
   },
   "file_extension": ".py",
   "mimetype": "text/x-python",
   "name": "python",
   "nbconvert_exporter": "python",
   "pygments_lexer": "ipython3",
   "version": "3.8.3"
  }
 },
 "nbformat": 4,
 "nbformat_minor": 4
}
