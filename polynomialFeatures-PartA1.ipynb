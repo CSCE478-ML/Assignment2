{
 "cells": [
  {
   "cell_type": "code",
   "execution_count": 1,
   "metadata": {},
   "outputs": [
    {
     "data": {
      "text/plain": [
       "array([[ 1.,  0.,  1.,  0.,  0.,  1.],\n",
       "       [ 1.,  2.,  3.,  4.,  6.,  9.],\n",
       "       [ 1.,  4.,  5., 16., 20., 25.]])"
      ]
     },
     "execution_count": 1,
     "metadata": {},
     "output_type": "execute_result"
    }
   ],
   "source": [
    "import numpy as np\n",
    "from sklearn.preprocessing import PolynomialFeatures\n",
    "X = np.array([[0, 1],\n",
    "       [2, 3],\n",
    "       [4, 5]])\n",
    "poly = PolynomialFeatures(2)\n",
    "##poly simply is initialization, sets degree as 2 in this example.\n",
    "poly.fit_transform(X)\n",
    "##GOAL IS TO RECREATE THIS"
   ]
  },
  {
   "cell_type": "markdown",
   "metadata": {},
   "source": [
    "Implement the following function that generates the polynomial and interaction\n",
    "features for a given degree of the polynomial.\n",
    "\n",
    "polynomialFeatures(X, degree)\n",
    "\n",
    "Argument:\n",
    "\n",
    "    X : ndarray\n",
    "\n",
    "        A numpy array with rows representing data samples and columns\n",
    "\n",
    "        representing features (d-dimensional feature).\n",
    "\n",
    "    degree : integer\n",
    "        \n",
    "        The degree of the polynomial features. Default = 1.\n",
    "        \n",
    "\n",
    "Returns:\n",
    "    \n",
    "    A new feature matrix consisting of all polynomial combinations of the features\n",
    "    with degree equal to the specified degree. For example, if an input sample is two\n",
    "    dimensional and of the form [a, b], the degree-2 polynomial features are [a, b, a2,ab, b2]."
   ]
  },
  {
   "cell_type": "code",
   "execution_count": 6,
   "metadata": {},
   "outputs": [],
   "source": [
    "def polynomialFeatures(x,degree):\n",
    "        x_t = x.T\n",
    "        features = np.ones(len(x))\n",
    "        for degree in range(1, degree + 1):\n",
    "            for items in it.combinations_with_replacement(x_t, degree):\n",
    "                features = np.vstack((features,ft.reduce(lambda x, y: x * y, items)))\n",
    "        return features.T"
   ]
  },
  {
   "cell_type": "code",
   "execution_count": 16,
   "metadata": {},
   "outputs": [
    {
     "name": "stdout",
     "output_type": "stream",
     "text": [
      "[[0 2 4]\n",
      " [1 3 5]]\n",
      "[[ 1.  0.  1.  0.  0.  1.]\n",
      " [ 1.  2.  3.  4.  6.  9.]\n",
      " [ 1.  4.  5. 16. 20. 25.]]\n"
     ]
    }
   ],
   "source": [
    "import itertools as it\n",
    "import numpy as np\n",
    "import functools as ft\n",
    "\n",
    "X = np.array([[0, 1],\n",
    "       [2, 3],\n",
    "       [4, 5]])\n",
    "samples, features= X.shape\n",
    "print(X.T)\n",
    "poly = polynomialFeatures(X,2)\n",
    "print(poly)"
   ]
  },
  {
   "cell_type": "code",
   "execution_count": null,
   "metadata": {},
   "outputs": [],
   "source": [
    "def polynomialFeatures(x,degree):\n",
    "    #by default: interaction_only=false, include_bias=true, order='C'\n",
    "    #fitting\n",
    "    samples, features= x.shape\n",
    "    \n",
    "    #this can be done in 6 lines with itertools.combination_with_replacement\n",
    "    combs= it.chain(it.combinations_with_replacement(x, degree) for i in range(0, degree+1))\n",
    "    input_features = features\n",
    "    outputfeatures = sum(1 for  in combs)\n",
    "\n",
    "    print(input_features)\n",
    "    print(output_features)\n",
    "    #fit returns combs, input feature number, output feature number. combs is our new \"x\". i\n",
    "    polynomials=combs\n",
    "    final= np.empty((samples,output_features), dtype=X.dtype)\n",
    "    for i, comb in enumerate(combs):\n",
    "        final[:, i] = x[:, comb].prod(1)\n",
    "    return final"
   ]
  }
 ],
 "metadata": {
  "kernelspec": {
   "display_name": "Python 3",
   "language": "python",
   "name": "python3"
  },
  "language_info": {
   "codemirror_mode": {
    "name": "ipython",
    "version": 3
   },
   "file_extension": ".py",
   "mimetype": "text/x-python",
   "name": "python",
   "nbconvert_exporter": "python",
   "pygments_lexer": "ipython3",
   "version": "3.8.3"
  }
 },
 "nbformat": 4,
 "nbformat_minor": 4
}
